{
 "cells": [
  {
   "cell_type": "markdown",
   "id": "7c949a37-f9a8-4288-8829-6520d4a7abe4",
   "metadata": {},
   "source": [
    "## Задание 1: Типы и структуры данных\r\n",
    "Написать программу, которая запрашивает у пользователя\r\n",
    "его имя, возраст и любимый цвет, затем выводит эту\r\n",
    "информацию обратно на экран в читаемом форм.\r\n",
    "\n",
    "\n"
   ]
  },
  {
   "cell_type": "code",
   "execution_count": 25,
   "id": "3fa59089-506b-41ab-8540-17c91ba737a5",
   "metadata": {},
   "outputs": [
    {
     "name": "stdin",
     "output_type": "stream",
     "text": [
      "Введите Ваше имя: Василий\n",
      "Приоткройте завесу тайны, сколько же вам лет? 45\n",
      "Ваш любимый цвет? Сиреневый\n"
     ]
    },
    {
     "name": "stdout",
     "output_type": "stream",
     "text": [
      "Давайте повторим, Ваше имя Василий, вы любите Сиреневый цвет, и Вам всего 45 лет!\n"
     ]
    }
   ],
   "source": [
    "name = input(\"Введите Ваше имя:\")\n",
    "age = input(\"Приоткройте завесу тайны, сколько же вам лет?\")\n",
    "color = input(\"Ваш любимый цвет?\")\n",
    "print(f\"Давайте повторим, Ваше имя {name}, вы любите {color} цвет, и Вам всего {age} лет!\")"
   ]
  },
  {
   "cell_type": "markdown",
   "id": "d5ad7911-e8b6-4220-a554-c9d756153cb2",
   "metadata": {},
   "source": [
    "## Задание 2: Типы и структуры данныхи\r\n",
    "Написать программу, которая создаёт список из чисел\r\n",
    "Фибоначчи до n-го элемента (значение n вводится\r\n",
    "пользователем) и выводит го.\r"
   ]
  },
  {
   "cell_type": "code",
   "execution_count": 23,
   "id": "e4431637-27b4-44c7-b126-7e0d95ab2db4",
   "metadata": {},
   "outputs": [
    {
     "name": "stdin",
     "output_type": "stream",
     "text": [
      "Введите ваше число:  5\n"
     ]
    },
    {
     "name": "stdout",
     "output_type": "stream",
     "text": [
      "8\n"
     ]
    }
   ],
   "source": [
    "def fibinacci(num):\n",
    "    if (num < 2): \n",
    "        return 0\n",
    "    index = 0\n",
    "    prev = 0\n",
    "    curr = 1\n",
    "    while (index < num):\n",
    "        next_val = prev + curr\n",
    "        prev = curr\n",
    "        curr = next_val\n",
    "        index += 1\n",
    "    return curr\n",
    "\n",
    "number = int(input(\"Введите ваше число: \"))\n",
    "result = fibinacci(number)\n",
    "print(result)"
   ]
  },
  {
   "cell_type": "markdown",
   "id": "d500a795-48ba-485e-b57b-496db2901b29",
   "metadata": {},
   "source": [
    "## Задание 3: Переменные и операторы\n",
    "Написать калькулятор, который выполняет основные\n",
    "арифметические операции: сложение, вычитание,\n",
    "умножение и деление. Все операнды и операторы вводятся\n",
    "пользователем."
   ]
  },
  {
   "cell_type": "code",
   "execution_count": 1,
   "id": "31f44482-526d-4962-812d-cea9e1e85c6c",
   "metadata": {},
   "outputs": [
    {
     "name": "stdin",
     "output_type": "stream",
     "text": [
      "введите первое число 4\n",
      "введите второе число 3\n",
      "Введите вашу операцию в формате + - / * /\n"
     ]
    },
    {
     "name": "stdout",
     "output_type": "stream",
     "text": [
      "1\n"
     ]
    },
    {
     "name": "stdin",
     "output_type": "stream",
     "text": [
      "введите первое число 9\n",
      "введите второе число 56\n",
      "Введите вашу операцию в формате + - / * -\n"
     ]
    },
    {
     "name": "stdout",
     "output_type": "stream",
     "text": [
      "-47\n"
     ]
    },
    {
     "name": "stdin",
     "output_type": "stream",
     "text": [
      "введите первое число 4\n",
      "введите второе число -\n"
     ]
    },
    {
     "ename": "ValueError",
     "evalue": "invalid literal for int() with base 10: '-'",
     "output_type": "error",
     "traceback": [
      "\u001b[1;31m---------------------------------------------------------------------------\u001b[0m",
      "\u001b[1;31mValueError\u001b[0m                                Traceback (most recent call last)",
      "Cell \u001b[1;32mIn[1], line 26\u001b[0m\n\u001b[0;32m     23\u001b[0m         \u001b[38;5;28mprint\u001b[39m(\u001b[38;5;124m\"\u001b[39m\u001b[38;5;124mВы ввели не ту команду, все данные стерты, попробуйте снова!\u001b[39m\u001b[38;5;124m\"\u001b[39m)\n\u001b[0;32m     25\u001b[0m \u001b[38;5;28;01mwhile\u001b[39;00m(\u001b[38;5;28;01mTrue\u001b[39;00m):\n\u001b[1;32m---> 26\u001b[0m     calculate()\n",
      "Cell \u001b[1;32mIn[1], line 12\u001b[0m, in \u001b[0;36mcalculate\u001b[1;34m()\u001b[0m\n\u001b[0;32m     10\u001b[0m \u001b[38;5;28;01mdef\u001b[39;00m \u001b[38;5;21mcalculate\u001b[39m():\n\u001b[0;32m     11\u001b[0m     num1 \u001b[38;5;241m=\u001b[39m \u001b[38;5;28mint\u001b[39m(\u001b[38;5;28minput\u001b[39m(\u001b[38;5;124m\"\u001b[39m\u001b[38;5;124mвведите первое число\u001b[39m\u001b[38;5;124m\"\u001b[39m))\n\u001b[1;32m---> 12\u001b[0m     num2 \u001b[38;5;241m=\u001b[39m \u001b[38;5;28mint\u001b[39m(\u001b[38;5;28minput\u001b[39m(\u001b[38;5;124m\"\u001b[39m\u001b[38;5;124mвведите второе число\u001b[39m\u001b[38;5;124m\"\u001b[39m))\n\u001b[0;32m     13\u001b[0m     operation \u001b[38;5;241m=\u001b[39m \u001b[38;5;28minput\u001b[39m(\u001b[38;5;124m\"\u001b[39m\u001b[38;5;124mВведите вашу операцию в формате + - / *\u001b[39m\u001b[38;5;124m\"\u001b[39m)\n\u001b[0;32m     14\u001b[0m     \u001b[38;5;28;01mif\u001b[39;00m (operation \u001b[38;5;241m==\u001b[39m \u001b[38;5;124m\"\u001b[39m\u001b[38;5;124m+\u001b[39m\u001b[38;5;124m\"\u001b[39m):\n",
      "\u001b[1;31mValueError\u001b[0m: invalid literal for int() with base 10: '-'"
     ]
    }
   ],
   "source": [
    "def sum(a, b):\n",
    "    return (a+b)\n",
    "def multy(a, b):\n",
    "    return a*b\n",
    "def divinity(a, b):\n",
    "    return (int) (a/b)\n",
    "def substraction(a, b):\n",
    "    return a-b\n",
    "\n",
    "def calculate():\n",
    "    num1 = int(input(\"введите первое число\"))\n",
    "    num2 = int(input(\"введите второе число\"))\n",
    "    operation = input(\"Введите вашу операцию в формате + - / *\")\n",
    "    if (operation == \"+\"):\n",
    "        print(sum(num1,num2))\n",
    "    elif(operation == \"-\"):\n",
    "        print(substraction(num1,num2))\n",
    "    elif(operation == \"/\"):\n",
    "        print(divinity(num1,num2))\n",
    "    elif(operation == \"*\"):\n",
    "        print(substraction(num1,num2))\n",
    "    else:\n",
    "        print(\"Вы ввели не ту команду, все данные стерты, попробуйте снова!\")\n",
    "        \n",
    "while(True):\n",
    "    calculate()   \n",
    "    "
   ]
  },
  {
   "cell_type": "markdown",
   "id": "ae3d6a07-fbb5-4f55-8ee5-66c94c34a858",
   "metadata": {},
   "source": [
    "## Задание 4: Переменные и операторы\n",
    "Напишите программу для преобразования температуры из\n",
    "Цельсия в Фаренгейты и обратно (формулы: C = (F - 32) *\n",
    "5/9, F = C * 9/5 + 32)."
   ]
  },
  {
   "cell_type": "code",
   "execution_count": 1,
   "id": "825a0964-56a0-41af-adfe-f3f9357c17c0",
   "metadata": {},
   "outputs": [
    {
     "name": "stdin",
     "output_type": "stream",
     "text": [
      "Введите ваше число 9\n",
      "Введите F если хотите перевести Цельсий в Фаренгейты или C если наоборот F\n"
     ]
    },
    {
     "name": "stdout",
     "output_type": "stream",
     "text": [
      "9 градусов Цельсия равны 48 градусам Фаренгейта\n"
     ]
    },
    {
     "name": "stdin",
     "output_type": "stream",
     "text": [
      "Введите ваше число 9\n",
      "Введите F если хотите перевести Цельсий в Фаренгейты или C если наоборот C\n"
     ]
    },
    {
     "name": "stdout",
     "output_type": "stream",
     "text": [
      "9 градусов Фаренгейта равны -12 градусам Цельсия\n"
     ]
    },
    {
     "name": "stdin",
     "output_type": "stream",
     "text": [
      "Введите ваше число -\n"
     ]
    },
    {
     "ename": "ValueError",
     "evalue": "invalid literal for int() with base 10: '-'",
     "output_type": "error",
     "traceback": [
      "\u001b[1;31m---------------------------------------------------------------------------\u001b[0m",
      "\u001b[1;31mValueError\u001b[0m                                Traceback (most recent call last)",
      "Cell \u001b[1;32mIn[1], line 17\u001b[0m\n\u001b[0;32m     14\u001b[0m         \u001b[38;5;28mprint\u001b[39m(\u001b[38;5;124m\"\u001b[39m\u001b[38;5;124mВы ввели не ту команду, все данные стерты, попробуйте снова!\u001b[39m\u001b[38;5;124m\"\u001b[39m)\n\u001b[0;32m     16\u001b[0m \u001b[38;5;28;01mwhile\u001b[39;00m(\u001b[38;5;28;01mTrue\u001b[39;00m):\n\u001b[1;32m---> 17\u001b[0m     farengate_and_celsiy()\n",
      "Cell \u001b[1;32mIn[1], line 7\u001b[0m, in \u001b[0;36mfarengate_and_celsiy\u001b[1;34m()\u001b[0m\n\u001b[0;32m      6\u001b[0m \u001b[38;5;28;01mdef\u001b[39;00m \u001b[38;5;21mfarengate_and_celsiy\u001b[39m():\n\u001b[1;32m----> 7\u001b[0m     number \u001b[38;5;241m=\u001b[39m \u001b[38;5;28mint\u001b[39m(\u001b[38;5;28minput\u001b[39m(\u001b[38;5;124m\"\u001b[39m\u001b[38;5;124mВведите ваше число\u001b[39m\u001b[38;5;124m\"\u001b[39m))\n\u001b[0;32m      8\u001b[0m     operation \u001b[38;5;241m=\u001b[39m \u001b[38;5;28minput\u001b[39m(\u001b[38;5;124m\"\u001b[39m\u001b[38;5;124mВведите F если хотите перевести Цельсий в Фаренгейты или C если наоборот\u001b[39m\u001b[38;5;124m\"\u001b[39m)\n\u001b[0;32m      9\u001b[0m     \u001b[38;5;28;01mif\u001b[39;00m (operation \u001b[38;5;241m==\u001b[39m \u001b[38;5;124m\"\u001b[39m\u001b[38;5;124mF\u001b[39m\u001b[38;5;124m\"\u001b[39m):\n",
      "\u001b[1;31mValueError\u001b[0m: invalid literal for int() with base 10: '-'"
     ]
    }
   ],
   "source": [
    "def celsiy_in_farengate(celsiy):\n",
    "    return (int) (celsiy*9/5+32)\n",
    "def farengate_in_celsiy(farengate):\n",
    "    return (int) ((farengate-32)*5/9)\n",
    "\n",
    "def farengate_and_celsiy():\n",
    "    number = int(input(\"Введите ваше число\"))\n",
    "    operation = input(\"Введите F если хотите перевести Цельсий в Фаренгейты или C если наоборот\")\n",
    "    if (operation == \"F\"):\n",
    "        print(f\"{number} градусов Цельсия равны {celsiy_in_farengate(number)} градусам Фаренгейта\")\n",
    "    elif (operation == \"C\"):\n",
    "        print(f\"{number} градусов Фаренгейта равны {farengate_in_celsiy(number)} градусам Цельсия\")\n",
    "    else:\n",
    "        print(\"Вы ввели не ту команду, все данные стерты, попробуйте снова!\")\n",
    "\n",
    "while(True):\n",
    "    farengate_and_celsiy()\n",
    "            \n"
   ]
  },
  {
   "cell_type": "code",
   "execution_count": null,
   "id": "6abe6196-f611-4423-b984-a68990854704",
   "metadata": {},
   "outputs": [],
   "source": []
  }
 ],
 "metadata": {
  "kernelspec": {
   "display_name": "Python 3 (ipykernel)",
   "language": "python",
   "name": "python3"
  },
  "language_info": {
   "codemirror_mode": {
    "name": "ipython",
    "version": 3
   },
   "file_extension": ".py",
   "mimetype": "text/x-python",
   "name": "python",
   "nbconvert_exporter": "python",
   "pygments_lexer": "ipython3",
   "version": "3.12.4"
  }
 },
 "nbformat": 4,
 "nbformat_minor": 5
}
