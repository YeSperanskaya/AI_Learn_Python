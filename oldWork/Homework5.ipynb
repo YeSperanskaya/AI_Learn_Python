{
 "cells": [
  {
   "cell_type": "markdown",
   "id": "a28000f9-efc3-4a53-8cb2-c9a3ef10ead1",
   "metadata": {},
   "source": [
    "# Задание 1: Работа с форматами данных\r",
    "Напишите программу на Python, который читает файл\r\n",
    "данных `data.csv`, содержащий информацию о продажах\r\n",
    "некоторого магазина (ID продажи, дата продажи,\r\n",
    "количество, цена за единицу и т.д.), и рассчитывает общий\r\n",
    "доход по каждому проду\n",
    "\n",
    "Сгенерируйте набор фейковых данных для тестирования\r\n",
    "программы.\r\n",
    "Для чтения файла данных data.csv используйте модуль csv\r\n",
    "в Python.\r\n",
    "Для расчета общего дохода по каждому продукту,\r\n",
    "суммируйте произведение количества и цены за единицу\r\n",
    "для каждой строки данных.ту.\r"
   ]
  },
  {
   "cell_type": "code",
   "execution_count": 4,
   "id": "9f9ce229-c978-4741-b57d-3a758b83d47e",
   "metadata": {},
   "outputs": [
    {
     "name": "stdout",
     "output_type": "stream",
     "text": [
      "500\n",
      "750\n",
      "1216\n",
      "580\n",
      "256\n",
      "1000\n",
      "882\n",
      "3500\n",
      "27\n",
      "Итоговая сумма равна 8711\n"
     ]
    }
   ],
   "source": [
    "import csv\n",
    "def multyMoney(csvreader):\n",
    "    count = 0\n",
    "    countList = 0\n",
    "    for row in csvreader:\n",
    "        if countList > 0:                \n",
    "            datas = row[0].split(\";\")\n",
    "            multy = int(datas[2]) * int(datas[3])\n",
    "            count+=multy\n",
    "            print(multy)\n",
    "        countList+=1\n",
    "    return count\n",
    "with open('data.csv', 'r') as csvfile:\n",
    "    csvreader = csv.reader(csvfile)\n",
    "    print(\"Итоговая сумма равна\", multyMoney(csvreader))"
   ]
  },
  {
   "cell_type": "markdown",
   "id": "02db1ee1-ddbc-4b3d-833a-a34ed730aec2",
   "metadata": {},
   "source": [
    "# Задание 2: Работа с форматами данных\n",
    "Дополните программу из Задания 1 функционалом для\r\n",
    "конвертации и сохранения этих данных в формате JSON в\r\n",
    "файл `data.json\n",
    "\n",
    "Для конвертации данных из CSV в JSON, воспользуйтесь\r\n",
    "словарем, где ключами будут имена столбцов.\r\n",
    "Затем используйте модуль json для сериализации словаря в\r\n",
    "строку JSON и сохранения этой строки в файл data.json.`."
   ]
  },
  {
   "cell_type": "code",
   "execution_count": 26,
   "id": "d1525bd8-13fa-4c08-9c9a-0ed53524c110",
   "metadata": {},
   "outputs": [
    {
     "name": "stdout",
     "output_type": "stream",
     "text": [
      "Данные успешно преобразованы и сохранены в файл 'data.json'.\n"
     ]
    }
   ],
   "source": [
    "import csv\n",
    "import json\n",
    "def tarsform():\n",
    "    with open('data.csv', newline='', encoding='utf-8') as csvfile:\n",
    "        reader = csv.DictReader(csvfile)\n",
    "        data = list(reader)\n",
    "    \n",
    "    json_data = json.dumps(data, indent=4)\n",
    "    \n",
    "    with open('data.json', 'w', encoding='utf-8') as jsonfile:\n",
    "        jsonfile.write(json_data)\n",
    "    print(\"Данные успешно преобразованы и сохранены в файл 'data.json'.\")\n",
    "\n",
    "tarsform()"
   ]
  },
  {
   "cell_type": "markdown",
   "id": "1738aa50-18fa-4279-893c-6e974c5f1aa2",
   "metadata": {},
   "source": [
    "# Задание 3: Сетевые запросы\n",
    "Используйте библиотеку `requests` для написания скрипта,\n",
    "который делает HTTP-запрос к API\n",
    "https://jsonplaceholder.typicode.com/posts и извлекает\n",
    "список постов.\n",
    "\n",
    "Импортируйте библиотеку requests и создайте объект\n",
    "requests.Session().\n",
    "Используйте метод get() объекта Session для отправки\n",
    "HTTP-запроса к указанному API и извлеките список постов,\n",
    "используя атрибут .json() для десериализации ответа в\n",
    "Python-объект"
   ]
  },
  {
   "cell_type": "code",
   "execution_count": 28,
   "id": "2cc9e540-fe2a-4769-9227-62cff00f58bd",
   "metadata": {},
   "outputs": [
    {
     "name": "stdout",
     "output_type": "stream",
     "text": [
      "['sunt aut facere repellat provident occaecati excepturi optio reprehenderit', 'qui est esse', 'ea molestias quasi exercitationem repellat qui ipsa sit aut', 'eum et est occaecati', 'nesciunt quas odio', 'dolorem eum magni eos aperiam quia', 'magnam facilis autem', 'dolorem dolore est ipsam', 'nesciunt iure omnis dolorem tempora et accusantium', 'optio molestias id quia eum', 'et ea vero quia laudantium autem', 'in quibusdam tempore odit est dolorem', 'dolorum ut in voluptas mollitia et saepe quo animi', 'voluptatem eligendi optio', 'eveniet quod temporibus', 'sint suscipit perspiciatis velit dolorum rerum ipsa laboriosam odio', 'fugit voluptas sed molestias voluptatem provident', 'voluptate et itaque vero tempora molestiae', 'adipisci placeat illum aut reiciendis qui', 'doloribus ad provident suscipit at', 'asperiores ea ipsam voluptatibus modi minima quia sint', 'dolor sint quo a velit explicabo quia nam', 'maxime id vitae nihil numquam', 'autem hic labore sunt dolores incidunt', 'rem alias distinctio quo quis', 'est et quae odit qui non', 'quasi id et eos tenetur aut quo autem', 'delectus ullam et corporis nulla voluptas sequi', 'iusto eius quod necessitatibus culpa ea', 'a quo magni similique perferendis', 'ullam ut quidem id aut vel consequuntur', 'doloremque illum aliquid sunt', 'qui explicabo molestiae dolorem', 'magnam ut rerum iure', 'id nihil consequatur molestias animi provident', 'fuga nam accusamus voluptas reiciendis itaque', 'provident vel ut sit ratione est', 'explicabo et eos deleniti nostrum ab id repellendus', 'eos dolorem iste accusantium est eaque quam', 'enim quo cumque', 'non est facere', 'commodi ullam sint et excepturi error explicabo praesentium voluptas', 'eligendi iste nostrum consequuntur adipisci praesentium sit beatae perferendis', 'optio dolor molestias sit', 'ut numquam possimus omnis eius suscipit laudantium iure', 'aut quo modi neque nostrum ducimus', 'quibusdam cumque rem aut deserunt', 'ut voluptatem illum ea doloribus itaque eos', 'laborum non sunt aut ut assumenda perspiciatis voluptas', 'repellendus qui recusandae incidunt voluptates tenetur qui omnis exercitationem', 'soluta aliquam aperiam consequatur illo quis voluptas', 'qui enim et consequuntur quia animi quis voluptate quibusdam', 'ut quo aut ducimus alias', 'sit asperiores ipsam eveniet odio non quia', 'sit vel voluptatem et non libero', 'qui et at rerum necessitatibus', 'sed ab est est', 'voluptatum itaque dolores nisi et quasi', 'qui commodi dolor at maiores et quis id accusantium', 'consequatur placeat omnis quisquam quia reprehenderit fugit veritatis facere', 'voluptatem doloribus consectetur est ut ducimus', 'beatae enim quia vel', 'voluptas blanditiis repellendus animi ducimus error sapiente et suscipit', 'et fugit quas eum in in aperiam quod', 'consequatur id enim sunt et et', 'repudiandae ea animi iusto', 'aliquid eos sed fuga est maxime repellendus', 'odio quis facere architecto reiciendis optio', 'fugiat quod pariatur odit minima', 'voluptatem laborum magni', 'et iusto veniam et illum aut fuga', 'sint hic doloribus consequatur eos non id', 'consequuntur deleniti eos quia temporibus ab aliquid at', 'enim unde ratione doloribus quas enim ut sit sapiente', 'dignissimos eum dolor ut enim et delectus in', 'doloremque officiis ad et non perferendis', 'necessitatibus quasi exercitationem odio', 'quam voluptatibus rerum veritatis', 'pariatur consequatur quia magnam autem omnis non amet', 'labore in ex et explicabo corporis aut quas', 'tempora rem veritatis voluptas quo dolores vero', 'laudantium voluptate suscipit sunt enim enim', 'odit et voluptates doloribus alias odio et', 'optio ipsam molestias necessitatibus occaecati facilis veritatis dolores aut', 'dolore veritatis porro provident adipisci blanditiis et sunt', 'placeat quia et porro iste', 'nostrum quis quasi placeat', 'sapiente omnis fugit eos', 'sint soluta et vel magnam aut ut sed qui', 'ad iusto omnis odit dolor voluptatibus', 'aut amet sed', 'ratione ex tenetur perferendis', 'beatae soluta recusandae', 'qui qui voluptates illo iste minima', 'id minus libero illum nam ad officiis', 'quaerat velit veniam amet cupiditate aut numquam ut sequi', 'quas fugiat ut perspiciatis vero provident', 'laboriosam dolor voluptates', 'temporibus sit alias delectus eligendi possimus magni', 'at nam consequatur ea labore ea harum']\n"
     ]
    }
   ],
   "source": [
    "import requests\n",
    "\n",
    "session = requests.Session()\n",
    "response = session.get('https://jsonplaceholder.typicode.com/posts')\n",
    "posts = response.json()\n",
    "titles = [post['title'] for post in posts]\n",
    "print(titles)\n"
   ]
  },
  {
   "cell_type": "markdown",
   "id": "d812ff6b-7cc5-4c5f-9f66-cc725eb975aa",
   "metadata": {},
   "source": [
    "# Задание 4: Сетевые запросы\n",
    "Проанализируйте полученные данные и найдите пост с\r\n",
    "максимальным количеством комментариев, используя\r\n",
    "соответствующий запрос к API для комментариев\r\n",
    "(https://jsonplaceholder.typicode.com/comment\n",
    "\n",
    "Используйте библиотеку requests для отправки HTTPзапроса к API комментариев, чтобы получить список\r\n",
    "комментариев для каждого поста.\r\n",
    "Проанализируйте каждый пост, подсчитав количество\r\n",
    "комментариев к нему, и найдите пост с максимальным\r\n",
    "количеством комментарев.s).\r"
   ]
  },
  {
   "cell_type": "code",
   "execution_count": 5,
   "id": "cbec47ba-3669-4746-b586-185c8a927fa7",
   "metadata": {},
   "outputs": [
    {
     "name": "stdout",
     "output_type": "stream",
     "text": [
      "Предупреждение:\n",
      "Программа запустилась, но работает медленно, нужно подождать некоторое время менее минуты\n",
      "Пост с максимальным количеством комментариев: sunt aut facere repellat provident occaecati excepturi optio reprehenderit\n"
     ]
    }
   ],
   "source": [
    "import requests\n",
    "def max_comment():\n",
    "    print('Предупреждение:')\n",
    "    print('Программа запустилась, но работает медленно, нужно подождать некоторое время менее минуты')\n",
    "    session = requests.Session()\n",
    "    response = session.get('https://jsonplaceholder.typicode.com/posts')\n",
    "    posts = response.json()\n",
    "    comments_api_url = 'https://jsonplaceholder.typicode.com/comments'\n",
    "    comments = []\n",
    "    for post in posts:\n",
    "        response = session.get(comments_api_url, params={'postId': post['id']})\n",
    "        comments.append(response.json())\n",
    "    max_comments_post = None\n",
    "    max_comments = 0\n",
    "    for post, comments_list in zip(posts, comments):\n",
    "        post_comments = len(comments_list)\n",
    "        if post_comments > max_comments:\n",
    "            max_comments = post_comments\n",
    "            max_comments_post = post\n",
    "    print(f\"Пост с максимальным количеством комментариев: {max_comments_post['title']}\")\n",
    "\n",
    "max_comment()"
   ]
  },
  {
   "cell_type": "code",
   "execution_count": null,
   "id": "06c9a3ee-5ebf-4b25-8c6b-ad751f71775e",
   "metadata": {},
   "outputs": [],
   "source": []
  }
 ],
 "metadata": {
  "kernelspec": {
   "display_name": "Python 3 (ipykernel)",
   "language": "python",
   "name": "python3"
  },
  "language_info": {
   "codemirror_mode": {
    "name": "ipython",
    "version": 3
   },
   "file_extension": ".py",
   "mimetype": "text/x-python",
   "name": "python",
   "nbconvert_exporter": "python",
   "pygments_lexer": "ipython3",
   "version": "3.12.4"
  }
 },
 "nbformat": 4,
 "nbformat_minor": 5
}
