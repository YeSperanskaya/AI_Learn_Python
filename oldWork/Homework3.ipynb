{
 "cells": [
  {
   "cell_type": "markdown",
   "id": "31bb4a91-6cb8-43e6-9cf6-e32e944ab01b",
   "metadata": {},
   "source": [
    "### Задание 1: Циклы и условные операторы\n",
    "Написать программу, которая выводит на экран все четные\n",
    "числа в заданном диапазоне (начало и конец диапазона\n",
    "вводятся пользователем)."
   ]
  },
  {
   "cell_type": "code",
   "execution_count": 1,
   "id": "a6f5445d-0abf-4d56-91fd-e957ff20395f",
   "metadata": {},
   "outputs": [
    {
     "name": "stdin",
     "output_type": "stream",
     "text": [
      "Введите первое число 1\n",
      "Введите второе число 2\n"
     ]
    },
    {
     "name": "stdout",
     "output_type": "stream",
     "text": [
      "2\n"
     ]
    }
   ],
   "source": [
    "def all_even_numbers(num1, num2):\n",
    "    if(num1 > num2):\n",
    "        start = num2\n",
    "        finish = num1\n",
    "    else:\n",
    "        start = num1\n",
    "        finish = num2\n",
    "    if(start % 2!=0):\n",
    "        start+=1\n",
    "    while(start <= finish):\n",
    "        print(start)\n",
    "        start+=2\n",
    "\n",
    "number1 = int(input(\"Введите первое число\"))\n",
    "number2 = int(input(\"Введите второе число\"))\n",
    "all_even_numbers(number1, number2)"
   ]
  },
  {
   "cell_type": "markdown",
   "id": "788a1eb6-e1fa-413a-ae66-cd47819c6da9",
   "metadata": {},
   "source": [
    "### Задание 2: Циклы и условные операторы\n",
    "Проверить, является ли введенная строка палиндромом\n",
    "(игнорируя регистры и пробелы)."
   ]
  },
  {
   "cell_type": "code",
   "execution_count": 3,
   "id": "31e2e3da-90ca-4b34-9a56-21d947893cba",
   "metadata": {},
   "outputs": [
    {
     "name": "stdin",
     "output_type": "stream",
     "text": [
      "Введите Вашу строку 12342\n"
     ]
    },
    {
     "name": "stdout",
     "output_type": "stream",
     "text": [
      "False\n"
     ]
    }
   ],
   "source": [
    "def isPalindrome(string):\n",
    "    good_string = string.replace(\" \",\"\")\n",
    "    array = list(good_string)\n",
    "    second_part = len(good_string)-1\n",
    "    i = 0\n",
    "    while (i < int(second_part/2)):\n",
    "        if(array[i]!=array[len(good_string)-1-i]):\n",
    "            return False\n",
    "        i+=1\n",
    "    return True\n",
    "    \n",
    "string = input(\"Введите Вашу строку\")\n",
    "print(isPalindrome(string))    "
   ]
  },
  {
   "cell_type": "markdown",
   "id": "23de05c9-83f7-46f6-9728-4312f31bcd73",
   "metadata": {},
   "source": [
    "### Задание 3: Функции\n",
    "Написать функцию, которая принимает на вход список\n",
    "чисел и возвращает их сумму, произведение и среднее\n",
    "арифметическое."
   ]
  },
  {
   "cell_type": "code",
   "execution_count": null,
   "id": "61542768-290a-47e0-a6b1-4f4ef7d5b6c5",
   "metadata": {},
   "outputs": [],
   "source": [
    "def sum_multy_arithmetic_mean(string):\n",
    "    array = string.split(\" \")\n",
    "    sum = 0\n",
    "    multy = 1\n",
    "    #arithmetic_mean = 0\n",
    "    for num in array:\n",
    "        sum+=int(num)\n",
    "        multy*=int(num)\n",
    "    arithmetic_mean = sum/len(array)\n",
    "    return sum, multy, arithmetic_mean\n",
    "\n",
    "numbers = input(\"Введите числа через пробел\")\n",
    "print(sum_multy_arithmetic_mean(numbers))    "
   ]
  },
  {
   "cell_type": "markdown",
   "id": "a977a720-ef54-46f3-9ce2-63500ff12d54",
   "metadata": {},
   "source": [
    "### Задание 4: Функции\n",
    "Создать функцию для нахождения НОД (наибольшего\n",
    "общего делителя) двух чисел с использованием алгоритма\n",
    "Евклида."
   ]
  },
  {
   "cell_type": "code",
   "execution_count": null,
   "id": "2f97cb23-153c-4374-a8e1-6ee9a124052f",
   "metadata": {},
   "outputs": [],
   "source": [
    "def nod(a,b):\n",
    "    if (b == 0):\n",
    "        return a\n",
    "    else:\n",
    "        return nod(b, a%b)\n",
    "\n",
    "num1 = int(input(\"Введите первое число\"))\n",
    "num2 = int(input(\"Введите второе число\"))\n",
    "print(nod(num1,num2))"
   ]
  }
 ],
 "metadata": {
  "kernelspec": {
   "display_name": "Python 3 (ipykernel)",
   "language": "python",
   "name": "python3"
  },
  "language_info": {
   "codemirror_mode": {
    "name": "ipython",
    "version": 3
   },
   "file_extension": ".py",
   "mimetype": "text/x-python",
   "name": "python",
   "nbconvert_exporter": "python",
   "pygments_lexer": "ipython3",
   "version": "3.12.4"
  }
 },
 "nbformat": 4,
 "nbformat_minor": 5
}
